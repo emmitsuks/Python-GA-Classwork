{
 "cells": [
  {
   "cell_type": "code",
   "execution_count": null,
   "metadata": {},
   "outputs": [],
   "source": []
  },
  {
   "cell_type": "code",
   "execution_count": 25,
   "metadata": {},
   "outputs": [
    {
     "name": "stdout",
     "output_type": "stream",
     "text": [
      "Press [a] to add a transaction, [b] to view the account balance, [c] to view all transactions.\n"
     ]
    }
   ],
   "source": [
    "\n",
    "def add_transaction():\n",
    "    # Request user input for each of the transaction properties:\n",
    "    title = input(\"what is the Budget Item Title?\")\n",
    "    item_type = input(\"Is this an income or expense item?\").upper() \n",
    "    item_amount = input(\"What is the total amount of this budget item?\")\n",
    "    transaction_date = input(\"Please enter the date in 'MM-DD-YYYY' format\")\n",
    "    #Access the transactions list and append a new element to it\n",
    "    transactions.append({\n",
    "        'title': title,\n",
    "        'item_type': item_type,\n",
    "        'item_amount': item_amount,\n",
    "        'transaction_date': transaction_date\n",
    "    })\n",
    "\n",
    "def view_account_balance():\n",
    "    # This function prints the value of the account balance\n",
    "    # We start with a variable to store the account balance which we will calculate in the following steps:\n",
    "    account_balance = 0\n",
    "    for transaction in transactions:\n",
    "        if transaction['item_type'] == \"Income\":\n",
    "          account_balance = account_balance + transaction['item_amount']\n",
    "        else:\n",
    "          account_balance = account_balance - transaction['item_amount']\n",
    "          \n",
    "    # Iterate through each line item in the transaction variable, adding \"Income\" amount to the \n",
    "    # account_balance variable and subtracting \"Expense\" line items\n",
    "    # Finally, return the account_balance variable\n",
    "    print(account_balance)\n",
    "\n",
    "def view_all_transactions():\n",
    "   for transaction in transactions:\n",
    "        print(f\" {transaction['title']},{transaction['item_type']},{transaction['item_amount']},{transaction['transaction_date']}\")\n",
    "\n",
    "\n",
    "transactions = []\n",
    "\n",
    "current_task = \"\"\n",
    "print(\"Press [a] to add a transaction, [b] to view the account balance, [c] to view all transactions.\")\n",
    "current_task = input(\"What would you like to do?\").upper()\n",
    "    # Use a conditional to respond to what the user has chosen by executing one of the functions defined below\n",
    "if current_task == 'A':\n",
    "    add_transaction()\n",
    "elif current_task =='B':\n",
    "    view_account_balance()\n",
    "else:\n",
    "    view_all_transactions()    "
   ]
  },
  {
   "cell_type": "code",
   "execution_count": null,
   "metadata": {},
   "outputs": [],
   "source": []
  }
 ],
 "metadata": {
  "kernelspec": {
   "display_name": "Python 3",
   "language": "python",
   "name": "python3"
  },
  "language_info": {
   "codemirror_mode": {
    "name": "ipython",
    "version": 3
   },
   "file_extension": ".py",
   "mimetype": "text/x-python",
   "name": "python",
   "nbconvert_exporter": "python",
   "pygments_lexer": "ipython3",
   "version": "3.7.16"
  },
  "vscode": {
   "interpreter": {
    "hash": "916dbcbb3f70747c44a77c7bcd40155683ae19c65e1c03b4aa3499c5328201f1"
   }
  }
 },
 "nbformat": 4,
 "nbformat_minor": 4
}
